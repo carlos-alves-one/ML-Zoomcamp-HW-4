{
  "nbformat": 4,
  "nbformat_minor": 0,
  "metadata": {
    "colab": {
      "provenance": [],
      "collapsed_sections": [],
      "authorship_tag": "ABX9TyN0YAUPwNkbhQjtEnlhrQaF",
      "include_colab_link": true
    },
    "kernelspec": {
      "name": "python3",
      "display_name": "Python 3"
    },
    "language_info": {
      "name": "python"
    },
    "widgets": {
      "application/vnd.jupyter.widget-state+json": {
        "87feee39b4184a61be275db7e5bf6fce": {
          "model_module": "@jupyter-widgets/controls",
          "model_name": "HBoxModel",
          "model_module_version": "1.5.0",
          "state": {
            "_dom_classes": [],
            "_model_module": "@jupyter-widgets/controls",
            "_model_module_version": "1.5.0",
            "_model_name": "HBoxModel",
            "_view_count": null,
            "_view_module": "@jupyter-widgets/controls",
            "_view_module_version": "1.5.0",
            "_view_name": "HBoxView",
            "box_style": "",
            "children": [
              "IPY_MODEL_c779005ad6dc4546af36f5d31da5f376",
              "IPY_MODEL_222cd3de2c674e24b8f4f1c2d01870ee",
              "IPY_MODEL_a47edc2a44d84fe0bceb7bea8e44c132"
            ],
            "layout": "IPY_MODEL_2871a8b5d13f45259e85f542db55e0d3"
          }
        },
        "c779005ad6dc4546af36f5d31da5f376": {
          "model_module": "@jupyter-widgets/controls",
          "model_name": "HTMLModel",
          "model_module_version": "1.5.0",
          "state": {
            "_dom_classes": [],
            "_model_module": "@jupyter-widgets/controls",
            "_model_module_version": "1.5.0",
            "_model_name": "HTMLModel",
            "_view_count": null,
            "_view_module": "@jupyter-widgets/controls",
            "_view_module_version": "1.5.0",
            "_view_name": "HTMLView",
            "description": "",
            "description_tooltip": null,
            "layout": "IPY_MODEL_f5e5129bbcc246a0b3e11110a1c4e6fe",
            "placeholder": "​",
            "style": "IPY_MODEL_68648ef1d4fb47a798c25b0335c55156",
            "value": "100%"
          }
        },
        "222cd3de2c674e24b8f4f1c2d01870ee": {
          "model_module": "@jupyter-widgets/controls",
          "model_name": "FloatProgressModel",
          "model_module_version": "1.5.0",
          "state": {
            "_dom_classes": [],
            "_model_module": "@jupyter-widgets/controls",
            "_model_module_version": "1.5.0",
            "_model_name": "FloatProgressModel",
            "_view_count": null,
            "_view_module": "@jupyter-widgets/controls",
            "_view_module_version": "1.5.0",
            "_view_name": "ProgressView",
            "bar_style": "success",
            "description": "",
            "description_tooltip": null,
            "layout": "IPY_MODEL_6d05b556ef094c16a197ad6776078fdc",
            "max": 4,
            "min": 0,
            "orientation": "horizontal",
            "style": "IPY_MODEL_2f61a13ebdef4d9bb184eed4a49779a3",
            "value": 4
          }
        },
        "a47edc2a44d84fe0bceb7bea8e44c132": {
          "model_module": "@jupyter-widgets/controls",
          "model_name": "HTMLModel",
          "model_module_version": "1.5.0",
          "state": {
            "_dom_classes": [],
            "_model_module": "@jupyter-widgets/controls",
            "_model_module_version": "1.5.0",
            "_model_name": "HTMLModel",
            "_view_count": null,
            "_view_module": "@jupyter-widgets/controls",
            "_view_module_version": "1.5.0",
            "_view_name": "HTMLView",
            "description": "",
            "description_tooltip": null,
            "layout": "IPY_MODEL_4d99d5360f8a452d8d0cfc96c219edf9",
            "placeholder": "​",
            "style": "IPY_MODEL_56a2a734dc114b11aea5be0b5568d49e",
            "value": " 4/4 [00:03&lt;00:00,  1.03it/s]"
          }
        },
        "2871a8b5d13f45259e85f542db55e0d3": {
          "model_module": "@jupyter-widgets/base",
          "model_name": "LayoutModel",
          "model_module_version": "1.2.0",
          "state": {
            "_model_module": "@jupyter-widgets/base",
            "_model_module_version": "1.2.0",
            "_model_name": "LayoutModel",
            "_view_count": null,
            "_view_module": "@jupyter-widgets/base",
            "_view_module_version": "1.2.0",
            "_view_name": "LayoutView",
            "align_content": null,
            "align_items": null,
            "align_self": null,
            "border": null,
            "bottom": null,
            "display": null,
            "flex": null,
            "flex_flow": null,
            "grid_area": null,
            "grid_auto_columns": null,
            "grid_auto_flow": null,
            "grid_auto_rows": null,
            "grid_column": null,
            "grid_gap": null,
            "grid_row": null,
            "grid_template_areas": null,
            "grid_template_columns": null,
            "grid_template_rows": null,
            "height": null,
            "justify_content": null,
            "justify_items": null,
            "left": null,
            "margin": null,
            "max_height": null,
            "max_width": null,
            "min_height": null,
            "min_width": null,
            "object_fit": null,
            "object_position": null,
            "order": null,
            "overflow": null,
            "overflow_x": null,
            "overflow_y": null,
            "padding": null,
            "right": null,
            "top": null,
            "visibility": null,
            "width": null
          }
        },
        "f5e5129bbcc246a0b3e11110a1c4e6fe": {
          "model_module": "@jupyter-widgets/base",
          "model_name": "LayoutModel",
          "model_module_version": "1.2.0",
          "state": {
            "_model_module": "@jupyter-widgets/base",
            "_model_module_version": "1.2.0",
            "_model_name": "LayoutModel",
            "_view_count": null,
            "_view_module": "@jupyter-widgets/base",
            "_view_module_version": "1.2.0",
            "_view_name": "LayoutView",
            "align_content": null,
            "align_items": null,
            "align_self": null,
            "border": null,
            "bottom": null,
            "display": null,
            "flex": null,
            "flex_flow": null,
            "grid_area": null,
            "grid_auto_columns": null,
            "grid_auto_flow": null,
            "grid_auto_rows": null,
            "grid_column": null,
            "grid_gap": null,
            "grid_row": null,
            "grid_template_areas": null,
            "grid_template_columns": null,
            "grid_template_rows": null,
            "height": null,
            "justify_content": null,
            "justify_items": null,
            "left": null,
            "margin": null,
            "max_height": null,
            "max_width": null,
            "min_height": null,
            "min_width": null,
            "object_fit": null,
            "object_position": null,
            "order": null,
            "overflow": null,
            "overflow_x": null,
            "overflow_y": null,
            "padding": null,
            "right": null,
            "top": null,
            "visibility": null,
            "width": null
          }
        },
        "68648ef1d4fb47a798c25b0335c55156": {
          "model_module": "@jupyter-widgets/controls",
          "model_name": "DescriptionStyleModel",
          "model_module_version": "1.5.0",
          "state": {
            "_model_module": "@jupyter-widgets/controls",
            "_model_module_version": "1.5.0",
            "_model_name": "DescriptionStyleModel",
            "_view_count": null,
            "_view_module": "@jupyter-widgets/base",
            "_view_module_version": "1.2.0",
            "_view_name": "StyleView",
            "description_width": ""
          }
        },
        "6d05b556ef094c16a197ad6776078fdc": {
          "model_module": "@jupyter-widgets/base",
          "model_name": "LayoutModel",
          "model_module_version": "1.2.0",
          "state": {
            "_model_module": "@jupyter-widgets/base",
            "_model_module_version": "1.2.0",
            "_model_name": "LayoutModel",
            "_view_count": null,
            "_view_module": "@jupyter-widgets/base",
            "_view_module_version": "1.2.0",
            "_view_name": "LayoutView",
            "align_content": null,
            "align_items": null,
            "align_self": null,
            "border": null,
            "bottom": null,
            "display": null,
            "flex": null,
            "flex_flow": null,
            "grid_area": null,
            "grid_auto_columns": null,
            "grid_auto_flow": null,
            "grid_auto_rows": null,
            "grid_column": null,
            "grid_gap": null,
            "grid_row": null,
            "grid_template_areas": null,
            "grid_template_columns": null,
            "grid_template_rows": null,
            "height": null,
            "justify_content": null,
            "justify_items": null,
            "left": null,
            "margin": null,
            "max_height": null,
            "max_width": null,
            "min_height": null,
            "min_width": null,
            "object_fit": null,
            "object_position": null,
            "order": null,
            "overflow": null,
            "overflow_x": null,
            "overflow_y": null,
            "padding": null,
            "right": null,
            "top": null,
            "visibility": null,
            "width": null
          }
        },
        "2f61a13ebdef4d9bb184eed4a49779a3": {
          "model_module": "@jupyter-widgets/controls",
          "model_name": "ProgressStyleModel",
          "model_module_version": "1.5.0",
          "state": {
            "_model_module": "@jupyter-widgets/controls",
            "_model_module_version": "1.5.0",
            "_model_name": "ProgressStyleModel",
            "_view_count": null,
            "_view_module": "@jupyter-widgets/base",
            "_view_module_version": "1.2.0",
            "_view_name": "StyleView",
            "bar_color": null,
            "description_width": ""
          }
        },
        "4d99d5360f8a452d8d0cfc96c219edf9": {
          "model_module": "@jupyter-widgets/base",
          "model_name": "LayoutModel",
          "model_module_version": "1.2.0",
          "state": {
            "_model_module": "@jupyter-widgets/base",
            "_model_module_version": "1.2.0",
            "_model_name": "LayoutModel",
            "_view_count": null,
            "_view_module": "@jupyter-widgets/base",
            "_view_module_version": "1.2.0",
            "_view_name": "LayoutView",
            "align_content": null,
            "align_items": null,
            "align_self": null,
            "border": null,
            "bottom": null,
            "display": null,
            "flex": null,
            "flex_flow": null,
            "grid_area": null,
            "grid_auto_columns": null,
            "grid_auto_flow": null,
            "grid_auto_rows": null,
            "grid_column": null,
            "grid_gap": null,
            "grid_row": null,
            "grid_template_areas": null,
            "grid_template_columns": null,
            "grid_template_rows": null,
            "height": null,
            "justify_content": null,
            "justify_items": null,
            "left": null,
            "margin": null,
            "max_height": null,
            "max_width": null,
            "min_height": null,
            "min_width": null,
            "object_fit": null,
            "object_position": null,
            "order": null,
            "overflow": null,
            "overflow_x": null,
            "overflow_y": null,
            "padding": null,
            "right": null,
            "top": null,
            "visibility": null,
            "width": null
          }
        },
        "56a2a734dc114b11aea5be0b5568d49e": {
          "model_module": "@jupyter-widgets/controls",
          "model_name": "DescriptionStyleModel",
          "model_module_version": "1.5.0",
          "state": {
            "_model_module": "@jupyter-widgets/controls",
            "_model_module_version": "1.5.0",
            "_model_name": "DescriptionStyleModel",
            "_view_count": null,
            "_view_module": "@jupyter-widgets/base",
            "_view_module_version": "1.2.0",
            "_view_name": "StyleView",
            "description_width": ""
          }
        }
      }
    }
  },
  "cells": [
    {
      "cell_type": "markdown",
      "metadata": {
        "id": "view-in-github",
        "colab_type": "text"
      },
      "source": [
        "<a href=\"https://colab.research.google.com/github/carlos-alves-one/-ML-Zoomcamp-HW-4/blob/main/ML_Zoomcamp_HW_4.ipynb\" target=\"_parent\"><img src=\"https://colab.research.google.com/assets/colab-badge.svg\" alt=\"Open In Colab\"/></a>"
      ]
    },
    {
      "cell_type": "markdown",
      "source": [
        "## Machine Learning ZoomCamp - Homework 3 \n",
        "**Author.....: Carlos Manuel de Oliveira Alves**<br>\n",
        "**Created...: 02/10/2022**"
      ],
      "metadata": {
        "id": "y61fqaaCqUu6"
      }
    },
    {
      "cell_type": "code",
      "execution_count": 75,
      "metadata": {
        "id": "gzkOlI1fqN0Q"
      },
      "outputs": [],
      "source": [
        "# Import all necessay libraries that we will use in this homework\n",
        "import numpy as np\n",
        "import pandas as pd\n",
        "import seaborn as sns\n",
        "import matplotlib.pyplot as plt\n",
        "from sklearn.metrics import roc_auc_score\n",
        "from sklearn.metrics import auc\n",
        "from sklearn.metrics import roc_curve\n",
        "from sklearn.model_selection import KFold\n",
        "\n",
        "\n",
        "from sklearn.metrics import mutual_info_score\n",
        "from sklearn.feature_extraction import DictVectorizer\n",
        "from sklearn.model_selection import train_test_split\n",
        "from sklearn.linear_model import LogisticRegression\n",
        "from sklearn.metrics import classification_report\n",
        "\n",
        "from sklearn.linear_model import Ridge\n",
        "from sklearn import metrics\n",
        "\n",
        "# Import the library warnings to ignore the warnings from the system\n",
        "import warnings\n",
        "warnings.filterwarnings(\"ignore\")"
      ]
    },
    {
      "cell_type": "code",
      "source": [
        "# Data Import:\n",
        "\n",
        "# Locate dataset for the homework\n",
        "data = 'https://raw.githubusercontent.com/alexeygrigorev/datasets/master/AER_credit_card_data.csv'"
      ],
      "metadata": {
        "id": "_l5IhYK7vkzn"
      },
      "execution_count": 76,
      "outputs": []
    },
    {
      "cell_type": "code",
      "source": [
        "# Download dataset and store it locally with different file name\n",
        "!wget $data -O data.csv"
      ],
      "metadata": {
        "colab": {
          "base_uri": "https://localhost:8080/"
        },
        "id": "TzYFBPsVv6E3",
        "outputId": "e3c285b9-b4f8-4f34-e4bd-20e2ea53b496"
      },
      "execution_count": 77,
      "outputs": [
        {
          "output_type": "stream",
          "name": "stdout",
          "text": [
            "--2022-10-03 10:56:25--  https://raw.githubusercontent.com/alexeygrigorev/datasets/master/AER_credit_card_data.csv\n",
            "Resolving raw.githubusercontent.com (raw.githubusercontent.com)... 185.199.110.133, 185.199.111.133, 185.199.109.133, ...\n",
            "Connecting to raw.githubusercontent.com (raw.githubusercontent.com)|185.199.110.133|:443... connected.\n",
            "HTTP request sent, awaiting response... 200 OK\n",
            "Length: 73250 (72K) [text/plain]\n",
            "Saving to: ‘data.csv’\n",
            "\n",
            "data.csv            100%[===================>]  71.53K  --.-KB/s    in 0.01s   \n",
            "\n",
            "2022-10-03 10:56:25 (7.34 MB/s) - ‘data.csv’ saved [73250/73250]\n",
            "\n"
          ]
        }
      ]
    },
    {
      "cell_type": "code",
      "source": [
        "# Store data using the Pandas library for this homework\n",
        "data = pd.read_csv('data.csv')"
      ],
      "metadata": {
        "id": "p9Tobx8NwCCR"
      },
      "execution_count": 78,
      "outputs": []
    },
    {
      "cell_type": "code",
      "source": [
        "# Check total of rows and columns of the dataset\n",
        "print(data.shape)"
      ],
      "metadata": {
        "colab": {
          "base_uri": "https://localhost:8080/"
        },
        "id": "giBb1BvZwlx3",
        "outputId": "a0aa1de2-6283-44f8-b1b3-180908a03191"
      },
      "execution_count": 79,
      "outputs": [
        {
          "output_type": "stream",
          "name": "stdout",
          "text": [
            "(1319, 12)\n"
          ]
        }
      ]
    },
    {
      "cell_type": "code",
      "source": [
        "# Check the first 5 rows of the dataset\n",
        "data.head()"
      ],
      "metadata": {
        "colab": {
          "base_uri": "https://localhost:8080/",
          "height": 270
        },
        "id": "2Dk6NmF7wqEf",
        "outputId": "2cb164ab-3864-4b5f-e888-946149108e6b"
      },
      "execution_count": 80,
      "outputs": [
        {
          "output_type": "execute_result",
          "data": {
            "text/plain": [
              "  card  reports       age  income     share  expenditure owner selfemp  \\\n",
              "0  yes        0  37.66667  4.5200  0.033270   124.983300   yes      no   \n",
              "1  yes        0  33.25000  2.4200  0.005217     9.854167    no      no   \n",
              "2  yes        0  33.66667  4.5000  0.004156    15.000000   yes      no   \n",
              "3  yes        0  30.50000  2.5400  0.065214   137.869200    no      no   \n",
              "4  yes        0  32.16667  9.7867  0.067051   546.503300   yes      no   \n",
              "\n",
              "   dependents  months  majorcards  active  \n",
              "0           3      54           1      12  \n",
              "1           3      34           1      13  \n",
              "2           4      58           1       5  \n",
              "3           0      25           1       7  \n",
              "4           2      64           1       5  "
            ],
            "text/html": [
              "\n",
              "  <div id=\"df-c78d7535-e1cd-45b7-973d-2327d85e3b0c\">\n",
              "    <div class=\"colab-df-container\">\n",
              "      <div>\n",
              "<style scoped>\n",
              "    .dataframe tbody tr th:only-of-type {\n",
              "        vertical-align: middle;\n",
              "    }\n",
              "\n",
              "    .dataframe tbody tr th {\n",
              "        vertical-align: top;\n",
              "    }\n",
              "\n",
              "    .dataframe thead th {\n",
              "        text-align: right;\n",
              "    }\n",
              "</style>\n",
              "<table border=\"1\" class=\"dataframe\">\n",
              "  <thead>\n",
              "    <tr style=\"text-align: right;\">\n",
              "      <th></th>\n",
              "      <th>card</th>\n",
              "      <th>reports</th>\n",
              "      <th>age</th>\n",
              "      <th>income</th>\n",
              "      <th>share</th>\n",
              "      <th>expenditure</th>\n",
              "      <th>owner</th>\n",
              "      <th>selfemp</th>\n",
              "      <th>dependents</th>\n",
              "      <th>months</th>\n",
              "      <th>majorcards</th>\n",
              "      <th>active</th>\n",
              "    </tr>\n",
              "  </thead>\n",
              "  <tbody>\n",
              "    <tr>\n",
              "      <th>0</th>\n",
              "      <td>yes</td>\n",
              "      <td>0</td>\n",
              "      <td>37.66667</td>\n",
              "      <td>4.5200</td>\n",
              "      <td>0.033270</td>\n",
              "      <td>124.983300</td>\n",
              "      <td>yes</td>\n",
              "      <td>no</td>\n",
              "      <td>3</td>\n",
              "      <td>54</td>\n",
              "      <td>1</td>\n",
              "      <td>12</td>\n",
              "    </tr>\n",
              "    <tr>\n",
              "      <th>1</th>\n",
              "      <td>yes</td>\n",
              "      <td>0</td>\n",
              "      <td>33.25000</td>\n",
              "      <td>2.4200</td>\n",
              "      <td>0.005217</td>\n",
              "      <td>9.854167</td>\n",
              "      <td>no</td>\n",
              "      <td>no</td>\n",
              "      <td>3</td>\n",
              "      <td>34</td>\n",
              "      <td>1</td>\n",
              "      <td>13</td>\n",
              "    </tr>\n",
              "    <tr>\n",
              "      <th>2</th>\n",
              "      <td>yes</td>\n",
              "      <td>0</td>\n",
              "      <td>33.66667</td>\n",
              "      <td>4.5000</td>\n",
              "      <td>0.004156</td>\n",
              "      <td>15.000000</td>\n",
              "      <td>yes</td>\n",
              "      <td>no</td>\n",
              "      <td>4</td>\n",
              "      <td>58</td>\n",
              "      <td>1</td>\n",
              "      <td>5</td>\n",
              "    </tr>\n",
              "    <tr>\n",
              "      <th>3</th>\n",
              "      <td>yes</td>\n",
              "      <td>0</td>\n",
              "      <td>30.50000</td>\n",
              "      <td>2.5400</td>\n",
              "      <td>0.065214</td>\n",
              "      <td>137.869200</td>\n",
              "      <td>no</td>\n",
              "      <td>no</td>\n",
              "      <td>0</td>\n",
              "      <td>25</td>\n",
              "      <td>1</td>\n",
              "      <td>7</td>\n",
              "    </tr>\n",
              "    <tr>\n",
              "      <th>4</th>\n",
              "      <td>yes</td>\n",
              "      <td>0</td>\n",
              "      <td>32.16667</td>\n",
              "      <td>9.7867</td>\n",
              "      <td>0.067051</td>\n",
              "      <td>546.503300</td>\n",
              "      <td>yes</td>\n",
              "      <td>no</td>\n",
              "      <td>2</td>\n",
              "      <td>64</td>\n",
              "      <td>1</td>\n",
              "      <td>5</td>\n",
              "    </tr>\n",
              "  </tbody>\n",
              "</table>\n",
              "</div>\n",
              "      <button class=\"colab-df-convert\" onclick=\"convertToInteractive('df-c78d7535-e1cd-45b7-973d-2327d85e3b0c')\"\n",
              "              title=\"Convert this dataframe to an interactive table.\"\n",
              "              style=\"display:none;\">\n",
              "        \n",
              "  <svg xmlns=\"http://www.w3.org/2000/svg\" height=\"24px\"viewBox=\"0 0 24 24\"\n",
              "       width=\"24px\">\n",
              "    <path d=\"M0 0h24v24H0V0z\" fill=\"none\"/>\n",
              "    <path d=\"M18.56 5.44l.94 2.06.94-2.06 2.06-.94-2.06-.94-.94-2.06-.94 2.06-2.06.94zm-11 1L8.5 8.5l.94-2.06 2.06-.94-2.06-.94L8.5 2.5l-.94 2.06-2.06.94zm10 10l.94 2.06.94-2.06 2.06-.94-2.06-.94-.94-2.06-.94 2.06-2.06.94z\"/><path d=\"M17.41 7.96l-1.37-1.37c-.4-.4-.92-.59-1.43-.59-.52 0-1.04.2-1.43.59L10.3 9.45l-7.72 7.72c-.78.78-.78 2.05 0 2.83L4 21.41c.39.39.9.59 1.41.59.51 0 1.02-.2 1.41-.59l7.78-7.78 2.81-2.81c.8-.78.8-2.07 0-2.86zM5.41 20L4 18.59l7.72-7.72 1.47 1.35L5.41 20z\"/>\n",
              "  </svg>\n",
              "      </button>\n",
              "      \n",
              "  <style>\n",
              "    .colab-df-container {\n",
              "      display:flex;\n",
              "      flex-wrap:wrap;\n",
              "      gap: 12px;\n",
              "    }\n",
              "\n",
              "    .colab-df-convert {\n",
              "      background-color: #E8F0FE;\n",
              "      border: none;\n",
              "      border-radius: 50%;\n",
              "      cursor: pointer;\n",
              "      display: none;\n",
              "      fill: #1967D2;\n",
              "      height: 32px;\n",
              "      padding: 0 0 0 0;\n",
              "      width: 32px;\n",
              "    }\n",
              "\n",
              "    .colab-df-convert:hover {\n",
              "      background-color: #E2EBFA;\n",
              "      box-shadow: 0px 1px 2px rgba(60, 64, 67, 0.3), 0px 1px 3px 1px rgba(60, 64, 67, 0.15);\n",
              "      fill: #174EA6;\n",
              "    }\n",
              "\n",
              "    [theme=dark] .colab-df-convert {\n",
              "      background-color: #3B4455;\n",
              "      fill: #D2E3FC;\n",
              "    }\n",
              "\n",
              "    [theme=dark] .colab-df-convert:hover {\n",
              "      background-color: #434B5C;\n",
              "      box-shadow: 0px 1px 3px 1px rgba(0, 0, 0, 0.15);\n",
              "      filter: drop-shadow(0px 1px 2px rgba(0, 0, 0, 0.3));\n",
              "      fill: #FFFFFF;\n",
              "    }\n",
              "  </style>\n",
              "\n",
              "      <script>\n",
              "        const buttonEl =\n",
              "          document.querySelector('#df-c78d7535-e1cd-45b7-973d-2327d85e3b0c button.colab-df-convert');\n",
              "        buttonEl.style.display =\n",
              "          google.colab.kernel.accessAllowed ? 'block' : 'none';\n",
              "\n",
              "        async function convertToInteractive(key) {\n",
              "          const element = document.querySelector('#df-c78d7535-e1cd-45b7-973d-2327d85e3b0c');\n",
              "          const dataTable =\n",
              "            await google.colab.kernel.invokeFunction('convertToInteractive',\n",
              "                                                     [key], {});\n",
              "          if (!dataTable) return;\n",
              "\n",
              "          const docLinkHtml = 'Like what you see? Visit the ' +\n",
              "            '<a target=\"_blank\" href=https://colab.research.google.com/notebooks/data_table.ipynb>data table notebook</a>'\n",
              "            + ' to learn more about interactive tables.';\n",
              "          element.innerHTML = '';\n",
              "          dataTable['output_type'] = 'display_data';\n",
              "          await google.colab.output.renderOutput(dataTable, element);\n",
              "          const docLink = document.createElement('div');\n",
              "          docLink.innerHTML = docLinkHtml;\n",
              "          element.appendChild(docLink);\n",
              "        }\n",
              "      </script>\n",
              "    </div>\n",
              "  </div>\n",
              "  "
            ]
          },
          "metadata": {},
          "execution_count": 80
        }
      ]
    },
    {
      "cell_type": "code",
      "source": [
        "# Create the target variable by mapping yes to 1 and no to 0\n",
        "data['card']=(data['card']=='yes').astype(int)"
      ],
      "metadata": {
        "id": "KPO4RVkHxQim"
      },
      "execution_count": 81,
      "outputs": []
    },
    {
      "cell_type": "code",
      "source": [
        "# Split the dataset into 3 parts: train/validation/test with 60%/20%/20% distribution. \n",
        "# Use train_test_split function for that with random_state=1\n",
        "data_full_train,data_test=train_test_split(data,test_size=0.2,random_state=1)\n",
        "data_train,data_val=train_test_split(data_full_train,test_size=0.25,random_state=1)"
      ],
      "metadata": {
        "id": "zl_gQNZWyXzL"
      },
      "execution_count": 82,
      "outputs": []
    },
    {
      "cell_type": "code",
      "source": [
        "# Use the function info to get information about the dataset\n",
        "data.info()"
      ],
      "metadata": {
        "colab": {
          "base_uri": "https://localhost:8080/"
        },
        "id": "wrljn2tcBciU",
        "outputId": "0526e5b1-c120-4e4f-8d9e-59ce949ba4f0"
      },
      "execution_count": 83,
      "outputs": [
        {
          "output_type": "stream",
          "name": "stdout",
          "text": [
            "<class 'pandas.core.frame.DataFrame'>\n",
            "RangeIndex: 1319 entries, 0 to 1318\n",
            "Data columns (total 12 columns):\n",
            " #   Column       Non-Null Count  Dtype  \n",
            "---  ------       --------------  -----  \n",
            " 0   card         1319 non-null   int64  \n",
            " 1   reports      1319 non-null   int64  \n",
            " 2   age          1319 non-null   float64\n",
            " 3   income       1319 non-null   float64\n",
            " 4   share        1319 non-null   float64\n",
            " 5   expenditure  1319 non-null   float64\n",
            " 6   owner        1319 non-null   object \n",
            " 7   selfemp      1319 non-null   object \n",
            " 8   dependents   1319 non-null   int64  \n",
            " 9   months       1319 non-null   int64  \n",
            " 10  majorcards   1319 non-null   int64  \n",
            " 11  active       1319 non-null   int64  \n",
            "dtypes: float64(4), int64(6), object(2)\n",
            "memory usage: 123.8+ KB\n"
          ]
        }
      ]
    },
    {
      "cell_type": "code",
      "source": [
        "# Get the card variables from train, validation and test dataframes\n",
        "y_train = data_train.card.values\n",
        "y_val   = data_val.card.values\n",
        "y_test  = data_test.card.values"
      ],
      "metadata": {
        "id": "O4nBTEYjELIg"
      },
      "execution_count": 84,
      "outputs": []
    },
    {
      "cell_type": "code",
      "source": [
        "# Delete the serie card from the dataframes: train, validation and test\n",
        "del data_train['card']\n",
        "del data_val['card']\n",
        "del data_test['card']"
      ],
      "metadata": {
        "id": "QRswIH4GGal1"
      },
      "execution_count": 85,
      "outputs": []
    },
    {
      "cell_type": "code",
      "source": [
        "# Create an array with the numerical features\n",
        "numerical_feature = data_train.select_dtypes(include=np.number).columns.tolist()\n",
        "numerical_feature"
      ],
      "metadata": {
        "colab": {
          "base_uri": "https://localhost:8080/"
        },
        "id": "mH73zxdbDJpW",
        "outputId": "821f64af-83f1-4ea2-d802-25d0acd09218"
      },
      "execution_count": 86,
      "outputs": [
        {
          "output_type": "execute_result",
          "data": {
            "text/plain": [
              "['reports',\n",
              " 'age',\n",
              " 'income',\n",
              " 'share',\n",
              " 'expenditure',\n",
              " 'dependents',\n",
              " 'months',\n",
              " 'majorcards',\n",
              " 'active']"
            ]
          },
          "metadata": {},
          "execution_count": 86
        }
      ]
    },
    {
      "cell_type": "code",
      "source": [
        "# Create an array with the categorical features\n",
        "categorical =data.select_dtypes(include=['object']).columns.tolist()\n",
        "categorical"
      ],
      "metadata": {
        "colab": {
          "base_uri": "https://localhost:8080/"
        },
        "id": "D1CWg7TIEGge",
        "outputId": "c5ad7ec1-b862-472d-ed5b-61aee8b3e80a"
      },
      "execution_count": 87,
      "outputs": [
        {
          "output_type": "execute_result",
          "data": {
            "text/plain": [
              "['owner', 'selfemp']"
            ]
          },
          "metadata": {},
          "execution_count": 87
        }
      ]
    },
    {
      "cell_type": "code",
      "source": [
        "# Create a list to store the scores of the ROC AUC\n",
        "roc_auc=[]\n",
        "\n",
        "# For loop to iterate all the numerical features\n",
        "for feature in numerical_feature:\n",
        "\n",
        "    # Create a model logistic regression\n",
        "    model = LogisticRegression()\n",
        "\n",
        "    # For training the model we use the fit method\n",
        "    model.fit(data_train[feature].to_frame(),y_train)\n",
        "\n",
        "    # Apply our model on Y predition and use the first column\n",
        "    y_pred = model.predict_proba(data_test[feature].to_frame())[:,1]\n",
        "\n",
        "    # Create the values FPR, TPR and use function ROC Curve with y_test and y_pred\n",
        "    fpr, tpr, thresholds = roc_curve(y_test, y_pred)\n",
        "\n",
        "    # Computes the AUC and store result\n",
        "    score = auc(fpr, tpr)\n",
        "    \n",
        "    # Add to an array the result of the AUC function \n",
        "    roc_auc.append([round(score,3),feature])\n",
        "\n",
        "# Store a new array sorted with ROC AUC by the first element in asceding order\n",
        "result = np.sort(roc_auc, axis = 0)\n",
        "\n",
        "# Print the ROC AUC Scores by ascending order \n",
        "print(\"ROC AUC Scores:\", result )"
      ],
      "metadata": {
        "colab": {
          "base_uri": "https://localhost:8080/"
        },
        "id": "gzKDx-lrHE8h",
        "outputId": "ed926681-be0a-489e-8a92-d8e15ed337fc"
      },
      "execution_count": 88,
      "outputs": [
        {
          "output_type": "stream",
          "name": "stdout",
          "text": [
            "ROC AUC Scores: [['0.488' 'active']\n",
            " ['0.504' 'age']\n",
            " ['0.554' 'dependents']\n",
            " ['0.559' 'expenditure']\n",
            " ['0.583' 'income']\n",
            " ['0.605' 'majorcards']\n",
            " ['0.724' 'months']\n",
            " ['0.992' 'reports']\n",
            " ['0.997' 'share']]\n"
          ]
        }
      ]
    },
    {
      "cell_type": "code",
      "source": [
        "# Question 1 : Which numerical variable (among the following 4) has the highest AUC?\n",
        "#    reports\n",
        "#    dependents\n",
        "#    active\n",
        "#    share\n",
        "# Answer for Question 1 : share"
      ],
      "metadata": {
        "id": "xROBecZy_c-L"
      },
      "execution_count": 89,
      "outputs": []
    },
    {
      "cell_type": "code",
      "source": [
        "# Training the model:\n",
        "\n",
        "# Apply one-hot-encoding using DictVectorizer and train the logistic regression with these parameters:\n",
        "\n",
        "# Create a new instance of the DictVectorizer class without sparse\n",
        "dv=DictVectorizer(sparse=False)\n",
        "\n",
        "# Turn the data into a dictionary and we want each row to turn into a dictionary\n",
        "train_dict = data_train[categorical+numerical_feature].to_dict(orient='records')\n",
        "\n",
        "# Use the function transform with our DictVectorizer\n",
        "X_train = dv.fit_transform(train_dict)\n",
        "\n",
        "# Create a model logistic regression and define the parameter and define the max duration\n",
        "model = LogisticRegression(solver='liblinear', C=1.0, max_iter=1000)\n",
        "\n",
        "# For training the model we use the fit method\n",
        "model.fit(X_train, y_train)\n",
        "\n",
        "# Create validation dictionary with categorical and numerical variables\n",
        "val_dict = data_val[categorical + numerical_feature].to_dict(orient='records')\n",
        "\n",
        "# Use the function transform with our validation dictionary\n",
        "X_val = dv.transform(val_dict)\n",
        "\n",
        "# Apply our model on Y prediction and use the first column\n",
        "y_pred=model.predict_proba(X_val)[:,1]\n",
        "\n",
        "# Create the values FPR, TPR and use function ROC Curve with y_val and y_pred\n",
        "fpr, tpr, thresholds = roc_curve(y_val, y_pred)\n",
        "\n",
        "\n",
        "auc(fpr, tpr).round(3)"
      ],
      "metadata": {
        "colab": {
          "base_uri": "https://localhost:8080/"
        },
        "id": "gOQI7EM5AaD9",
        "outputId": "f034a65c-6401-4c73-e769-23e737e74cfa"
      },
      "execution_count": 90,
      "outputs": [
        {
          "output_type": "execute_result",
          "data": {
            "text/plain": [
              "0.995"
            ]
          },
          "metadata": {},
          "execution_count": 90
        }
      ]
    },
    {
      "cell_type": "code",
      "source": [
        "# Question 2 : What's the AUC of this model on the validation dataset? (round to 3 digits)\n",
        "#   0.615\n",
        "#   0.515\n",
        "#   0.715\n",
        "#   0.995\n",
        "# Answer for Question 2 : 0.995"
      ],
      "metadata": {
        "id": "qfaVyHcZFw25"
      },
      "execution_count": 91,
      "outputs": []
    },
    {
      "cell_type": "code",
      "source": [
        "# Now let's compute precision and recall for our model.\n",
        "\n",
        "# Evaluate the model on the validation dataset on all thresholds from 0.0 to 1.0 with step 0.0\n",
        "# Use the function linspace to generate numbers from 0 to 1 with size of the array 101 elements\n",
        "thresholds = np.linspace(0, 1, 101)\n",
        "thresholds"
      ],
      "metadata": {
        "colab": {
          "base_uri": "https://localhost:8080/"
        },
        "id": "azn1pOcUI4nW",
        "outputId": "e7907f14-8720-458f-c19e-9596392ba1a3"
      },
      "execution_count": 92,
      "outputs": [
        {
          "output_type": "execute_result",
          "data": {
            "text/plain": [
              "array([0.  , 0.01, 0.02, 0.03, 0.04, 0.05, 0.06, 0.07, 0.08, 0.09, 0.1 ,\n",
              "       0.11, 0.12, 0.13, 0.14, 0.15, 0.16, 0.17, 0.18, 0.19, 0.2 , 0.21,\n",
              "       0.22, 0.23, 0.24, 0.25, 0.26, 0.27, 0.28, 0.29, 0.3 , 0.31, 0.32,\n",
              "       0.33, 0.34, 0.35, 0.36, 0.37, 0.38, 0.39, 0.4 , 0.41, 0.42, 0.43,\n",
              "       0.44, 0.45, 0.46, 0.47, 0.48, 0.49, 0.5 , 0.51, 0.52, 0.53, 0.54,\n",
              "       0.55, 0.56, 0.57, 0.58, 0.59, 0.6 , 0.61, 0.62, 0.63, 0.64, 0.65,\n",
              "       0.66, 0.67, 0.68, 0.69, 0.7 , 0.71, 0.72, 0.73, 0.74, 0.75, 0.76,\n",
              "       0.77, 0.78, 0.79, 0.8 , 0.81, 0.82, 0.83, 0.84, 0.85, 0.86, 0.87,\n",
              "       0.88, 0.89, 0.9 , 0.91, 0.92, 0.93, 0.94, 0.95, 0.96, 0.97, 0.98,\n",
              "       0.99, 1.  ])"
            ]
          },
          "metadata": {},
          "execution_count": 92
        }
      ]
    },
    {
      "cell_type": "code",
      "source": [
        "# Create a list to store all the accuracies\n",
        "scores = []\n",
        "\n",
        "# For eah of the values above we can treat as a threshold\n",
        "for t in thresholds:\n",
        "\n",
        "    # Create an array for customers have card and this is for case validations are 1\n",
        "    actual_positive = (y_val == 1)\n",
        "\n",
        "    # Create an array for customers don't have card and this is for case validations are 0\n",
        "    actual_negative = (y_val == 0)\n",
        "    \n",
        "    # Store the positive predictions\n",
        "    predict_positive = (y_pred >= t)\n",
        "\n",
        "    # Store the negative predictions\n",
        "    predict_negative = (y_pred < t)\n",
        "\n",
        "    # Store how many predictions and actual positives are\n",
        "    tp = (predict_positive & actual_positive).sum()\n",
        "\n",
        "    # Store the true negatives values in a variable\n",
        "    tn = (predict_negative & actual_negative).sum()\n",
        "\n",
        "    # Store the false positive values in a variable\n",
        "    fp = (predict_positive & actual_negative).sum()\n",
        "\n",
        "    # Store the false negatives values in a variable\n",
        "    fn = (predict_negative & actual_positive).sum()\n",
        "    \n",
        "    # Append the list scores with the threshold and results of TP, FP, FN and TN\n",
        "    scores.append((t, tp, fp, fn, tn))"
      ],
      "metadata": {
        "id": "pnnSj8neMC17"
      },
      "execution_count": 93,
      "outputs": []
    },
    {
      "cell_type": "code",
      "source": [
        "# Specify the columns names of the dataframe scores\n",
        "columns = ['threshold', 'tp', 'fp', 'fn', 'tn']\n",
        "\n",
        "# Create dataframe scores with the data from scores list and add column names\n",
        "df_scores = pd.DataFrame(scores, columns=columns)\n",
        "\n",
        "# Compute the true positive rates of the dataframe scores\n",
        "df_scores['tpr'] = df_scores.tp / (df_scores.tp + df_scores.fn)\n",
        "\n",
        "# Compute the false positive rates of the dataframe scores\n",
        "df_scores['fpr'] = df_scores.fp / (df_scores.fp + df_scores.tn)\n",
        "\n",
        "# Compute the precision rate of the dataframe score\n",
        "df_scores['precision'] = df_scores.tp / (df_scores.tp + df_scores.fp)\n",
        "\n",
        "# Compute the recall rate of the dataframe score\n",
        "df_scores['recall'] = df_scores.tp / (df_scores.tp + df_scores.fn)\n",
        "\n",
        "# Compute the AUC rate of the dataframe score\n",
        "df_scores['auc'] = auc(df_scores.fpr, df_scores.tpr)\n",
        "\n",
        "# Check the first 5 rows of the dataframe score\n",
        "df_scores.head()"
      ],
      "metadata": {
        "colab": {
          "base_uri": "https://localhost:8080/",
          "height": 206
        },
        "id": "Rk6TRbySP4Z5",
        "outputId": "e510007e-45c1-414c-d8fe-e28d96985c01"
      },
      "execution_count": 94,
      "outputs": [
        {
          "output_type": "execute_result",
          "data": {
            "text/plain": [
              "   threshold   tp  fp  fn  tn  tpr       fpr  precision  recall       auc\n",
              "0       0.00  211  53   0   0  1.0  1.000000   0.799242     1.0  0.994992\n",
              "1       0.01  211  34   0  19  1.0  0.641509   0.861224     1.0  0.994992\n",
              "2       0.02  211  31   0  22  1.0  0.584906   0.871901     1.0  0.994992\n",
              "3       0.03  211  24   0  29  1.0  0.452830   0.897872     1.0  0.994992\n",
              "4       0.04  211  22   0  31  1.0  0.415094   0.905579     1.0  0.994992"
            ],
            "text/html": [
              "\n",
              "  <div id=\"df-1c28f5b6-c339-470b-a32c-a43b189dd282\">\n",
              "    <div class=\"colab-df-container\">\n",
              "      <div>\n",
              "<style scoped>\n",
              "    .dataframe tbody tr th:only-of-type {\n",
              "        vertical-align: middle;\n",
              "    }\n",
              "\n",
              "    .dataframe tbody tr th {\n",
              "        vertical-align: top;\n",
              "    }\n",
              "\n",
              "    .dataframe thead th {\n",
              "        text-align: right;\n",
              "    }\n",
              "</style>\n",
              "<table border=\"1\" class=\"dataframe\">\n",
              "  <thead>\n",
              "    <tr style=\"text-align: right;\">\n",
              "      <th></th>\n",
              "      <th>threshold</th>\n",
              "      <th>tp</th>\n",
              "      <th>fp</th>\n",
              "      <th>fn</th>\n",
              "      <th>tn</th>\n",
              "      <th>tpr</th>\n",
              "      <th>fpr</th>\n",
              "      <th>precision</th>\n",
              "      <th>recall</th>\n",
              "      <th>auc</th>\n",
              "    </tr>\n",
              "  </thead>\n",
              "  <tbody>\n",
              "    <tr>\n",
              "      <th>0</th>\n",
              "      <td>0.00</td>\n",
              "      <td>211</td>\n",
              "      <td>53</td>\n",
              "      <td>0</td>\n",
              "      <td>0</td>\n",
              "      <td>1.0</td>\n",
              "      <td>1.000000</td>\n",
              "      <td>0.799242</td>\n",
              "      <td>1.0</td>\n",
              "      <td>0.994992</td>\n",
              "    </tr>\n",
              "    <tr>\n",
              "      <th>1</th>\n",
              "      <td>0.01</td>\n",
              "      <td>211</td>\n",
              "      <td>34</td>\n",
              "      <td>0</td>\n",
              "      <td>19</td>\n",
              "      <td>1.0</td>\n",
              "      <td>0.641509</td>\n",
              "      <td>0.861224</td>\n",
              "      <td>1.0</td>\n",
              "      <td>0.994992</td>\n",
              "    </tr>\n",
              "    <tr>\n",
              "      <th>2</th>\n",
              "      <td>0.02</td>\n",
              "      <td>211</td>\n",
              "      <td>31</td>\n",
              "      <td>0</td>\n",
              "      <td>22</td>\n",
              "      <td>1.0</td>\n",
              "      <td>0.584906</td>\n",
              "      <td>0.871901</td>\n",
              "      <td>1.0</td>\n",
              "      <td>0.994992</td>\n",
              "    </tr>\n",
              "    <tr>\n",
              "      <th>3</th>\n",
              "      <td>0.03</td>\n",
              "      <td>211</td>\n",
              "      <td>24</td>\n",
              "      <td>0</td>\n",
              "      <td>29</td>\n",
              "      <td>1.0</td>\n",
              "      <td>0.452830</td>\n",
              "      <td>0.897872</td>\n",
              "      <td>1.0</td>\n",
              "      <td>0.994992</td>\n",
              "    </tr>\n",
              "    <tr>\n",
              "      <th>4</th>\n",
              "      <td>0.04</td>\n",
              "      <td>211</td>\n",
              "      <td>22</td>\n",
              "      <td>0</td>\n",
              "      <td>31</td>\n",
              "      <td>1.0</td>\n",
              "      <td>0.415094</td>\n",
              "      <td>0.905579</td>\n",
              "      <td>1.0</td>\n",
              "      <td>0.994992</td>\n",
              "    </tr>\n",
              "  </tbody>\n",
              "</table>\n",
              "</div>\n",
              "      <button class=\"colab-df-convert\" onclick=\"convertToInteractive('df-1c28f5b6-c339-470b-a32c-a43b189dd282')\"\n",
              "              title=\"Convert this dataframe to an interactive table.\"\n",
              "              style=\"display:none;\">\n",
              "        \n",
              "  <svg xmlns=\"http://www.w3.org/2000/svg\" height=\"24px\"viewBox=\"0 0 24 24\"\n",
              "       width=\"24px\">\n",
              "    <path d=\"M0 0h24v24H0V0z\" fill=\"none\"/>\n",
              "    <path d=\"M18.56 5.44l.94 2.06.94-2.06 2.06-.94-2.06-.94-.94-2.06-.94 2.06-2.06.94zm-11 1L8.5 8.5l.94-2.06 2.06-.94-2.06-.94L8.5 2.5l-.94 2.06-2.06.94zm10 10l.94 2.06.94-2.06 2.06-.94-2.06-.94-.94-2.06-.94 2.06-2.06.94z\"/><path d=\"M17.41 7.96l-1.37-1.37c-.4-.4-.92-.59-1.43-.59-.52 0-1.04.2-1.43.59L10.3 9.45l-7.72 7.72c-.78.78-.78 2.05 0 2.83L4 21.41c.39.39.9.59 1.41.59.51 0 1.02-.2 1.41-.59l7.78-7.78 2.81-2.81c.8-.78.8-2.07 0-2.86zM5.41 20L4 18.59l7.72-7.72 1.47 1.35L5.41 20z\"/>\n",
              "  </svg>\n",
              "      </button>\n",
              "      \n",
              "  <style>\n",
              "    .colab-df-container {\n",
              "      display:flex;\n",
              "      flex-wrap:wrap;\n",
              "      gap: 12px;\n",
              "    }\n",
              "\n",
              "    .colab-df-convert {\n",
              "      background-color: #E8F0FE;\n",
              "      border: none;\n",
              "      border-radius: 50%;\n",
              "      cursor: pointer;\n",
              "      display: none;\n",
              "      fill: #1967D2;\n",
              "      height: 32px;\n",
              "      padding: 0 0 0 0;\n",
              "      width: 32px;\n",
              "    }\n",
              "\n",
              "    .colab-df-convert:hover {\n",
              "      background-color: #E2EBFA;\n",
              "      box-shadow: 0px 1px 2px rgba(60, 64, 67, 0.3), 0px 1px 3px 1px rgba(60, 64, 67, 0.15);\n",
              "      fill: #174EA6;\n",
              "    }\n",
              "\n",
              "    [theme=dark] .colab-df-convert {\n",
              "      background-color: #3B4455;\n",
              "      fill: #D2E3FC;\n",
              "    }\n",
              "\n",
              "    [theme=dark] .colab-df-convert:hover {\n",
              "      background-color: #434B5C;\n",
              "      box-shadow: 0px 1px 3px 1px rgba(0, 0, 0, 0.15);\n",
              "      filter: drop-shadow(0px 1px 2px rgba(0, 0, 0, 0.3));\n",
              "      fill: #FFFFFF;\n",
              "    }\n",
              "  </style>\n",
              "\n",
              "      <script>\n",
              "        const buttonEl =\n",
              "          document.querySelector('#df-1c28f5b6-c339-470b-a32c-a43b189dd282 button.colab-df-convert');\n",
              "        buttonEl.style.display =\n",
              "          google.colab.kernel.accessAllowed ? 'block' : 'none';\n",
              "\n",
              "        async function convertToInteractive(key) {\n",
              "          const element = document.querySelector('#df-1c28f5b6-c339-470b-a32c-a43b189dd282');\n",
              "          const dataTable =\n",
              "            await google.colab.kernel.invokeFunction('convertToInteractive',\n",
              "                                                     [key], {});\n",
              "          if (!dataTable) return;\n",
              "\n",
              "          const docLinkHtml = 'Like what you see? Visit the ' +\n",
              "            '<a target=\"_blank\" href=https://colab.research.google.com/notebooks/data_table.ipynb>data table notebook</a>'\n",
              "            + ' to learn more about interactive tables.';\n",
              "          element.innerHTML = '';\n",
              "          dataTable['output_type'] = 'display_data';\n",
              "          await google.colab.output.renderOutput(dataTable, element);\n",
              "          const docLink = document.createElement('div');\n",
              "          docLink.innerHTML = docLinkHtml;\n",
              "          element.appendChild(docLink);\n",
              "        }\n",
              "      </script>\n",
              "    </div>\n",
              "  </div>\n",
              "  "
            ]
          },
          "metadata": {},
          "execution_count": 94
        }
      ]
    },
    {
      "cell_type": "code",
      "source": [
        "# Plot the scores of Precision of the dataframe scores\n",
        "plt.plot(df_scores.threshold, df_scores.precision, label='Precision')\n",
        "\n",
        "# Plot the scores of Recall of the dataframe scores\n",
        "plt.plot(df_scores.threshold, df_scores.recall, label='Recall')\n",
        "\n",
        "# Plot the scores of Precison and Re call with legends\n",
        "plt.legend()\n",
        "\n",
        "# Plot the scores of Precison and Recall\n",
        "plt.show()"
      ],
      "metadata": {
        "colab": {
          "base_uri": "https://localhost:8080/",
          "height": 265
        },
        "id": "7fT7JXZtS2by",
        "outputId": "edc636f0-8da6-4cad-efe3-704d2ac2d4cc"
      },
      "execution_count": 95,
      "outputs": [
        {
          "output_type": "display_data",
          "data": {
            "text/plain": [
              "<Figure size 432x288 with 1 Axes>"
            ],
            "image/png": "[encoded data removed]"
          },
          "metadata": {
            "needs_background": "light"
          }
        }
      ]
    },
    {
      "cell_type": "code",
      "source": [
        "# Question 3 : At which threshold precision and recall curves intersect?\n",
        "#   0.1\n",
        "#   0.3\n",
        "#   0.6\n",
        "#   0.8\n",
        "# Answer for Question 3 : 0.3"
      ],
      "metadata": {
        "id": "5dxaUDWXUEWE"
      },
      "execution_count": 96,
      "outputs": []
    },
    {
      "cell_type": "code",
      "source": [
        "# Precision and recall are conflicting - when one grows, the other goes down. \n",
        "# That's why they are often combined into the F1 score - a metrics that takes into account both\n",
        "\n",
        "# This is the formula for computing F1:\n",
        "# F1 = 2 P R / (P + R)\n",
        "# Where P is precision and R is recall.\n",
        "\n",
        "# Compute F1 for all thresholds from 0.0 to 1.0 with increment 0.01\n",
        "df_scores['F1'] = ( 2 * df_scores.recall * df_scores.precision) / (df_scores.precision + df_scores.recall)\n",
        "\n",
        "# Check the first 5 rows of the dataframe score\n",
        "df_scores.head()\n"
      ],
      "metadata": {
        "colab": {
          "base_uri": "https://localhost:8080/",
          "height": 206
        },
        "id": "L27E5h49U9Uf",
        "outputId": "3e73a353-79e1-4257-bd0e-0cc2633f75b8"
      },
      "execution_count": 97,
      "outputs": [
        {
          "output_type": "execute_result",
          "data": {
            "text/plain": [
              "   threshold   tp  fp  fn  tn  tpr       fpr  precision  recall       auc  \\\n",
              "0       0.00  211  53   0   0  1.0  1.000000   0.799242     1.0  0.994992   \n",
              "1       0.01  211  34   0  19  1.0  0.641509   0.861224     1.0  0.994992   \n",
              "2       0.02  211  31   0  22  1.0  0.584906   0.871901     1.0  0.994992   \n",
              "3       0.03  211  24   0  29  1.0  0.452830   0.897872     1.0  0.994992   \n",
              "4       0.04  211  22   0  31  1.0  0.415094   0.905579     1.0  0.994992   \n",
              "\n",
              "         F1  \n",
              "0  0.888421  \n",
              "1  0.925439  \n",
              "2  0.931567  \n",
              "3  0.946188  \n",
              "4  0.950450  "
            ],
            "text/html": [
              "\n",
              "  <div id=\"df-b45905ec-621d-44ad-a208-2c20a841bd97\">\n",
              "    <div class=\"colab-df-container\">\n",
              "      <div>\n",
              "<style scoped>\n",
              "    .dataframe tbody tr th:only-of-type {\n",
              "        vertical-align: middle;\n",
              "    }\n",
              "\n",
              "    .dataframe tbody tr th {\n",
              "        vertical-align: top;\n",
              "    }\n",
              "\n",
              "    .dataframe thead th {\n",
              "        text-align: right;\n",
              "    }\n",
              "</style>\n",
              "<table border=\"1\" class=\"dataframe\">\n",
              "  <thead>\n",
              "    <tr style=\"text-align: right;\">\n",
              "      <th></th>\n",
              "      <th>threshold</th>\n",
              "      <th>tp</th>\n",
              "      <th>fp</th>\n",
              "      <th>fn</th>\n",
              "      <th>tn</th>\n",
              "      <th>tpr</th>\n",
              "      <th>fpr</th>\n",
              "      <th>precision</th>\n",
              "      <th>recall</th>\n",
              "      <th>auc</th>\n",
              "      <th>F1</th>\n",
              "    </tr>\n",
              "  </thead>\n",
              "  <tbody>\n",
              "    <tr>\n",
              "      <th>0</th>\n",
              "      <td>0.00</td>\n",
              "      <td>211</td>\n",
              "      <td>53</td>\n",
              "      <td>0</td>\n",
              "      <td>0</td>\n",
              "      <td>1.0</td>\n",
              "      <td>1.000000</td>\n",
              "      <td>0.799242</td>\n",
              "      <td>1.0</td>\n",
              "      <td>0.994992</td>\n",
              "      <td>0.888421</td>\n",
              "    </tr>\n",
              "    <tr>\n",
              "      <th>1</th>\n",
              "      <td>0.01</td>\n",
              "      <td>211</td>\n",
              "      <td>34</td>\n",
              "      <td>0</td>\n",
              "      <td>19</td>\n",
              "      <td>1.0</td>\n",
              "      <td>0.641509</td>\n",
              "      <td>0.861224</td>\n",
              "      <td>1.0</td>\n",
              "      <td>0.994992</td>\n",
              "      <td>0.925439</td>\n",
              "    </tr>\n",
              "    <tr>\n",
              "      <th>2</th>\n",
              "      <td>0.02</td>\n",
              "      <td>211</td>\n",
              "      <td>31</td>\n",
              "      <td>0</td>\n",
              "      <td>22</td>\n",
              "      <td>1.0</td>\n",
              "      <td>0.584906</td>\n",
              "      <td>0.871901</td>\n",
              "      <td>1.0</td>\n",
              "      <td>0.994992</td>\n",
              "      <td>0.931567</td>\n",
              "    </tr>\n",
              "    <tr>\n",
              "      <th>3</th>\n",
              "      <td>0.03</td>\n",
              "      <td>211</td>\n",
              "      <td>24</td>\n",
              "      <td>0</td>\n",
              "      <td>29</td>\n",
              "      <td>1.0</td>\n",
              "      <td>0.452830</td>\n",
              "      <td>0.897872</td>\n",
              "      <td>1.0</td>\n",
              "      <td>0.994992</td>\n",
              "      <td>0.946188</td>\n",
              "    </tr>\n",
              "    <tr>\n",
              "      <th>4</th>\n",
              "      <td>0.04</td>\n",
              "      <td>211</td>\n",
              "      <td>22</td>\n",
              "      <td>0</td>\n",
              "      <td>31</td>\n",
              "      <td>1.0</td>\n",
              "      <td>0.415094</td>\n",
              "      <td>0.905579</td>\n",
              "      <td>1.0</td>\n",
              "      <td>0.994992</td>\n",
              "      <td>0.950450</td>\n",
              "    </tr>\n",
              "  </tbody>\n",
              "</table>\n",
              "</div>\n",
              "      <button class=\"colab-df-convert\" onclick=\"convertToInteractive('df-b45905ec-621d-44ad-a208-2c20a841bd97')\"\n",
              "              title=\"Convert this dataframe to an interactive table.\"\n",
              "              style=\"display:none;\">\n",
              "        \n",
              "  <svg xmlns=\"http://www.w3.org/2000/svg\" height=\"24px\"viewBox=\"0 0 24 24\"\n",
              "       width=\"24px\">\n",
              "    <path d=\"M0 0h24v24H0V0z\" fill=\"none\"/>\n",
              "    <path d=\"M18.56 5.44l.94 2.06.94-2.06 2.06-.94-2.06-.94-.94-2.06-.94 2.06-2.06.94zm-11 1L8.5 8.5l.94-2.06 2.06-.94-2.06-.94L8.5 2.5l-.94 2.06-2.06.94zm10 10l.94 2.06.94-2.06 2.06-.94-2.06-.94-.94-2.06-.94 2.06-2.06.94z\"/><path d=\"M17.41 7.96l-1.37-1.37c-.4-.4-.92-.59-1.43-.59-.52 0-1.04.2-1.43.59L10.3 9.45l-7.72 7.72c-.78.78-.78 2.05 0 2.83L4 21.41c.39.39.9.59 1.41.59.51 0 1.02-.2 1.41-.59l7.78-7.78 2.81-2.81c.8-.78.8-2.07 0-2.86zM5.41 20L4 18.59l7.72-7.72 1.47 1.35L5.41 20z\"/>\n",
              "  </svg>\n",
              "      </button>\n",
              "      \n",
              "  <style>\n",
              "    .colab-df-container {\n",
              "      display:flex;\n",
              "      flex-wrap:wrap;\n",
              "      gap: 12px;\n",
              "    }\n",
              "\n",
              "    .colab-df-convert {\n",
              "      background-color: #E8F0FE;\n",
              "      border: none;\n",
              "      border-radius: 50%;\n",
              "      cursor: pointer;\n",
              "      display: none;\n",
              "      fill: #1967D2;\n",
              "      height: 32px;\n",
              "      padding: 0 0 0 0;\n",
              "      width: 32px;\n",
              "    }\n",
              "\n",
              "    .colab-df-convert:hover {\n",
              "      background-color: #E2EBFA;\n",
              "      box-shadow: 0px 1px 2px rgba(60, 64, 67, 0.3), 0px 1px 3px 1px rgba(60, 64, 67, 0.15);\n",
              "      fill: #174EA6;\n",
              "    }\n",
              "\n",
              "    [theme=dark] .colab-df-convert {\n",
              "      background-color: #3B4455;\n",
              "      fill: #D2E3FC;\n",
              "    }\n",
              "\n",
              "    [theme=dark] .colab-df-convert:hover {\n",
              "      background-color: #434B5C;\n",
              "      box-shadow: 0px 1px 3px 1px rgba(0, 0, 0, 0.15);\n",
              "      filter: drop-shadow(0px 1px 2px rgba(0, 0, 0, 0.3));\n",
              "      fill: #FFFFFF;\n",
              "    }\n",
              "  </style>\n",
              "\n",
              "      <script>\n",
              "        const buttonEl =\n",
              "          document.querySelector('#df-b45905ec-621d-44ad-a208-2c20a841bd97 button.colab-df-convert');\n",
              "        buttonEl.style.display =\n",
              "          google.colab.kernel.accessAllowed ? 'block' : 'none';\n",
              "\n",
              "        async function convertToInteractive(key) {\n",
              "          const element = document.querySelector('#df-b45905ec-621d-44ad-a208-2c20a841bd97');\n",
              "          const dataTable =\n",
              "            await google.colab.kernel.invokeFunction('convertToInteractive',\n",
              "                                                     [key], {});\n",
              "          if (!dataTable) return;\n",
              "\n",
              "          const docLinkHtml = 'Like what you see? Visit the ' +\n",
              "            '<a target=\"_blank\" href=https://colab.research.google.com/notebooks/data_table.ipynb>data table notebook</a>'\n",
              "            + ' to learn more about interactive tables.';\n",
              "          element.innerHTML = '';\n",
              "          dataTable['output_type'] = 'display_data';\n",
              "          await google.colab.output.renderOutput(dataTable, element);\n",
              "          const docLink = document.createElement('div');\n",
              "          docLink.innerHTML = docLinkHtml;\n",
              "          element.appendChild(docLink);\n",
              "        }\n",
              "      </script>\n",
              "    </div>\n",
              "  </div>\n",
              "  "
            ]
          },
          "metadata": {},
          "execution_count": 97
        }
      ]
    },
    {
      "cell_type": "code",
      "source": [
        "# Question 4 : At which threshold F1 is maximal?\n",
        "#   0.1\n",
        "#   0.4\n",
        "#   0.6\n",
        "#   0.7\n",
        "# Answer for Question 4 : 0.4"
      ],
      "metadata": {
        "id": "EhNbCUxEW0L6"
      },
      "execution_count": 98,
      "outputs": []
    },
    {
      "cell_type": "code",
      "source": [
        "# Create a function for training\n",
        "def train(data_train, y_train, C=1.0):\n",
        "    \n",
        "    # Create dictionaries that extract from our dataframe categoricl and numerical variables\n",
        "    dicts = data_train[categorical+numerical_feature].to_dict(orient='records')\n",
        "\n",
        "    # Create a new instance of the DictVectorizer class without sparse\n",
        "    dv = DictVectorizer(sparse=False)\n",
        "    \n",
        "    # Use the function transform with our DictVectorizer\n",
        "    X_train = dv.fit_transform(dicts)\n",
        "\n",
        "    # Create a model logistic regression and define the parameter and duration\n",
        "    model = LogisticRegression(C=C, max_iter=1000)\n",
        "    \n",
        "    # For training the model we use the fit method\n",
        "    model.fit(X_train, y_train)\n",
        "    \n",
        "    # Return the DictVectorizer and model\n",
        "    return dv, model"
      ],
      "metadata": {
        "id": "F1yi8qFTX_fE"
      },
      "execution_count": 99,
      "outputs": []
    },
    {
      "cell_type": "code",
      "source": [
        "# Call function train and store results of dv and model\n",
        "dv, model = train(data_train, y_train, C=1)"
      ],
      "metadata": {
        "id": "NJemmbecagru"
      },
      "execution_count": 100,
      "outputs": []
    },
    {
      "cell_type": "code",
      "source": [
        "# Create a function for predict\n",
        "def predict(data, dv, model):\n",
        "\n",
        "    # Convert the dataframe into a list of dictionaries\n",
        "    dicts = data[categorical+numerical_feature].to_dict(orient='records')\n",
        "\n",
        "    # Creates the feature matrix using the vectorizer\n",
        "    X = dv.transform(dicts)\n",
        "\n",
        "    # Use the model predict proba and take the second column\n",
        "    y_pred = model.predict_proba(X)[:, 1]\n",
        "\n",
        "    # Return our prediction\n",
        "    return y_pred"
      ],
      "metadata": {
        "id": "o3xcXzkZa2Bq"
      },
      "execution_count": 101,
      "outputs": []
    },
    {
      "cell_type": "code",
      "source": [
        "# Use the function KFold to split the data in 5 parts and seed 2\n",
        "kfold = KFold(n_splits=5, shuffle=True, random_state=2)\n",
        "\n",
        "# Create a list with scores\n",
        "scores = []\n",
        "\n",
        "# Iterate over the full train dataframe using the function split together with train and val indexes\n",
        "for train_idx, val_idx in kfold.split(data_full_train):\n",
        "\n",
        "    # Use iloc to select a part of the full train dataframe for train\n",
        "    data_train = data_full_train.iloc[train_idx]\n",
        "\n",
        "    # Use iloc to select a part of the full train dataframe for validation\n",
        "    data_val = data_full_train.iloc[val_idx]\n",
        "\n",
        "    # Use iloc to select a part of the full train dataframe for train and validation\n",
        "    y_train = data_train.card.values\n",
        "    y_val = data_val.card.values\n",
        "\n",
        "    # Call function train and store results of dv and model\n",
        "    dv, model = train(data_train, y_train,C=1)\n",
        "\n",
        "    # Call the function predict and use with our validation datset\n",
        "    y_pred = predict(data_val, dv, model)\n",
        "    \n",
        "    # Compute and store the ROC AUC score\n",
        "    auc = roc_auc_score(y_val, y_pred)\n",
        "    \n",
        "    # After evaluate the model we store the results\n",
        "    scores.append(auc)\n",
        "\n",
        "# Print the mean score and standard deviation\n",
        "print(f'{np.mean(scores):.3f} +- {np.std(scores):.3f}')"
      ],
      "metadata": {
        "colab": {
          "base_uri": "https://localhost:8080/"
        },
        "id": "qoRWcav2bql2",
        "outputId": "f512f7af-ba96-4051-eb00-efff9b1c1cf6"
      },
      "execution_count": 102,
      "outputs": [
        {
          "output_type": "stream",
          "name": "stdout",
          "text": [
            "0.995 +- 0.003\n"
          ]
        }
      ]
    },
    {
      "cell_type": "code",
      "source": [
        "# Question 5 : How large is standard devidation of the AUC scores across different folds?\n",
        "#   0.003\n",
        "#   0.014\n",
        "#   0.09\n",
        "#   0.24\n",
        "# Answer for Question 5 : 0.003"
      ],
      "metadata": {
        "id": "raU9mFAthYPI"
      },
      "execution_count": null,
      "outputs": []
    },
    {
      "cell_type": "code",
      "source": [
        "# Install TQDM to see progress of each iterations of a loop\n",
        "!pip install tqdm"
      ],
      "metadata": {
        "colab": {
          "base_uri": "https://localhost:8080/"
        },
        "id": "5_ZEru35hsyg",
        "outputId": "bd8df81a-cd9a-4669-c40c-2e8e02a40fc7"
      },
      "execution_count": 103,
      "outputs": [
        {
          "output_type": "stream",
          "name": "stdout",
          "text": [
            "Looking in indexes: https://pypi.org/simple, https://us-python.pkg.dev/colab-wheels/public/simple/\n",
            "Requirement already satisfied: tqdm in /usr/local/lib/python3.7/dist-packages (4.64.1)\n"
          ]
        }
      ]
    },
    {
      "cell_type": "code",
      "source": [
        "# Import the library of TQDM\n",
        "from tqdm.auto import tqdm"
      ],
      "metadata": {
        "id": "s3HFA5bBh_ZJ"
      },
      "execution_count": 104,
      "outputs": []
    },
    {
      "cell_type": "code",
      "source": [
        "# Declare how many splits we will do with dataframe\n",
        "n_splits = 5\n",
        "\n",
        "# Create for loop that save the results after each iteraction we evaluate the model\n",
        "for C in tqdm([0.01, 0.1, 1, 10]):\n",
        "\n",
        "    # Use the function KFold to split the data in 5 parts\n",
        "    kfold = KFold(n_splits=5, shuffle=True, random_state=1)\n",
        "\n",
        "    # Create a list with scores\n",
        "    scores = []\n",
        "\n",
        "    # Iterate over the full train dataframe using the function split together with train and val indexes\n",
        "    for train_idx, val_idx in kfold.split(data_full_train):\n",
        "\n",
        "        # Use iloc to select a part of the full train dataframe for train\n",
        "        data_train = data_full_train.iloc[train_idx]\n",
        "\n",
        "        # Use iloc to select a part of the full train dataframe for validation\n",
        "        data_val = data_full_train.iloc[val_idx]\n",
        "\n",
        "        # Store the card values with y train and validation\n",
        "        y_train = data_train.card.values\n",
        "        y_val = data_val.card.values\n",
        "\n",
        "\n",
        "        dv, model = train(data_train, y_train,C=C)\n",
        "\n",
        "\n",
        "        y_pred = predict(data_val, dv, model)\n",
        "    \n",
        "\n",
        "        auc = roc_auc_score(y_val, y_pred)\n",
        "\n",
        "\n",
        "        scores.append(auc)\n",
        "    print('C=%s %.3f +- %.3f' % (C, np.mean(scores), np.std(scores)))"
      ],
      "metadata": {
        "colab": {
          "base_uri": "https://localhost:8080/",
          "height": 123,
          "referenced_widgets": [
            "87feee39b4184a61be275db7e5bf6fce",
            "c779005ad6dc4546af36f5d31da5f376",
            "222cd3de2c674e24b8f4f1c2d01870ee",
            "a47edc2a44d84fe0bceb7bea8e44c132",
            "2871a8b5d13f45259e85f542db55e0d3",
            "f5e5129bbcc246a0b3e11110a1c4e6fe",
            "68648ef1d4fb47a798c25b0335c55156",
            "6d05b556ef094c16a197ad6776078fdc",
            "2f61a13ebdef4d9bb184eed4a49779a3",
            "4d99d5360f8a452d8d0cfc96c219edf9",
            "56a2a734dc114b11aea5be0b5568d49e"
          ]
        },
        "id": "PiIgoBGxiM9g",
        "outputId": "48c3b77d-d863-4bc2-98b1-0495848207f2"
      },
      "execution_count": 106,
      "outputs": [
        {
          "output_type": "display_data",
          "data": {
            "text/plain": [
              "  0%|          | 0/4 [00:00<?, ?it/s]"
            ],
            "application/vnd.jupyter.widget-view+json": {
              "version_major": 2,
              "version_minor": 0,
              "model_id": "87feee39b4184a61be275db7e5bf6fce"
            }
          },
          "metadata": {}
        },
        {
          "output_type": "stream",
          "name": "stdout",
          "text": [
            "C=0.01 0.995 +- 0.004\n",
            "C=0.1 0.997 +- 0.003\n",
            "C=1 0.996 +- 0.003\n",
            "C=10 0.997 +- 0.003\n"
          ]
        }
      ]
    }
  ]
}